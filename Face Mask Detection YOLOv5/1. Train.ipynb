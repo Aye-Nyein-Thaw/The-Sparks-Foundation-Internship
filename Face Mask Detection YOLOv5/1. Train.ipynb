{
  "nbformat": 4,
  "nbformat_minor": 0,
  "metadata": {
    "colab": {
      "name": "Train.ipynb",
      "provenance": [],
      "collapsed_sections": [
        "Qhy0fTPeaizP",
        "7TcqAhU9If3W",
        "CZRE_ouvI-Su",
        "hOa7kRbqMmI0",
        "BIqqc5GiNYOM"
      ],
      "include_colab_link": true
    },
    "kernelspec": {
      "display_name": "Python 3",
      "language": "python",
      "name": "python3"
    },
    "language_info": {
      "codemirror_mode": {
        "name": "ipython",
        "version": 3
      },
      "file_extension": ".py",
      "mimetype": "text/x-python",
      "name": "python",
      "nbconvert_exporter": "python",
      "pygments_lexer": "ipython3",
      "version": "3.8.5"
    },
    "accelerator": "GPU"
  },
  "cells": [
    {
      "cell_type": "markdown",
      "metadata": {
        "id": "view-in-github",
        "colab_type": "text"
      },
      "source": [
        "<a href=\"https://colab.research.google.com/github/Aye-Nyein-Thaw/The-Sparks-Foundation-Internship/blob/main/Face%20Mask%20Detection%20YOLOv5/1.%20Train.ipynb\" target=\"_parent\"><img src=\"https://colab.research.google.com/assets/colab-badge.svg\" alt=\"Open In Colab\"/></a>"
      ]
    },
    {
      "cell_type": "markdown",
      "metadata": {
        "id": "VW1IJIuK8-uw"
      },
      "source": [
        "# **Face Mask Detection with YOLOv5**"
      ]
    },
    {
      "cell_type": "markdown",
      "metadata": {
        "id": "Qhy0fTPeaizP"
      },
      "source": [
        "## **Step 1: Clone YOLOv5 github repository and install dependencies**"
      ]
    },
    {
      "cell_type": "code",
      "metadata": {
        "id": "UdBqUEvpLJyT"
      },
      "source": [
        "# clone YOLOv5 repo\n",
        "!git clone https://github.com/ultralytics/yolov5"
      ],
      "execution_count": null,
      "outputs": []
    },
    {
      "cell_type": "code",
      "metadata": {
        "id": "G49aUFIPa9pd"
      },
      "source": [
        "# install dependencies\n",
        "!pip install -U -r yolov5/requirements.txt"
      ],
      "execution_count": null,
      "outputs": []
    },
    {
      "cell_type": "markdown",
      "metadata": {
        "id": "7TcqAhU9If3W"
      },
      "source": [
        "## **Step 2: Prepare data**"
      ]
    },
    {
      "cell_type": "markdown",
      "metadata": {
        "id": "M6rxcCxt0prk"
      },
      "source": [
        "### **2.1. Download data**\n",
        "- download dataset zip file from dropbox link\n",
        "- unzip it to target folder (\"/content/dataset\")"
      ]
    },
    {
      "cell_type": "code",
      "metadata": {
        "id": "HsptCtKgzLAy"
      },
      "source": [
        "import os\n",
        "\n",
        "# dataset zip file download url\n",
        "DATASET_URL = 'https://www.dropbox.com/s/ixvs04fak2ttb35/dataset.zip?dl=0'\n",
        "\n",
        "# create folder to store our dataset\n",
        "DATASET_FOLDER = '/content'\n",
        "os.makedirs(DATASET_FOLDER, exist_ok = True)\n",
        "\n",
        "# download dataset zip file\n",
        "DATASET_ZIP_FILE = '/content/dataset.zip'\n",
        "!wget -O {DATASET_ZIP_FILE} {DATASET_URL}\n",
        "\n",
        "# unzip dataset zip file to folder\n",
        "!unzip -u {DATASET_ZIP_FILE} -d {DATASET_FOLDER}\n",
        "\n",
        "# remove dataset zip file\n",
        "!rm {DATASET_ZIP_FILE}"
      ],
      "execution_count": null,
      "outputs": []
    },
    {
      "cell_type": "markdown",
      "metadata": {
        "id": "GRtyeeQplRIC"
      },
      "source": [
        "###**2.2. Remove \"incorrectly worn\" class**\n",
        "- There are only a few samples for \"Incorrectly Worn\" class in the dataset. \n",
        "- We will convert it to \"No Mask\" class."
      ]
    },
    {
      "cell_type": "code",
      "metadata": {
        "id": "VxhPvdkpR_xP"
      },
      "source": [
        "import glob\n",
        "import os\n",
        "import re\n",
        "\n",
        "dataset_dir = f'{DATASET_FOLDER}/dataset'\n",
        "\n",
        "for folder in ['train', 'valid']:\n",
        "    file_list = os.listdir(f'{dataset_dir}/{folder}/labels')\n",
        "    for file in file_list:\n",
        "        if not file.endswith('.txt'):\n",
        "            continue\n",
        "        with open(f'{dataset_dir}/{folder}/labels/{file}', 'r+') as f:\n",
        "            lines = f.read()\n",
        "            replaced = re.sub(r'0(?=\\s\\d+\\.\\d+){4}', '1', lines)\n",
        "            replaced = re.sub(r'2(?=\\s\\d+\\.\\d+){4}', '0', lines)\n",
        "            f.seek(0)\n",
        "            f.write(replaced)\n",
        "            f.truncate()"
      ],
      "execution_count": 2,
      "outputs": []
    },
    {
      "cell_type": "markdown",
      "metadata": {
        "id": "wEmHVvVYKk8c"
      },
      "source": [
        "###**2.3. Visualize sample data**"
      ]
    },
    {
      "cell_type": "code",
      "metadata": {
        "id": "Re5BMeG30J1C"
      },
      "source": [
        "!git clone https://github.com/Aye-Nyein-Thaw/The-Sparks-Foundation-Internship.git"
      ],
      "execution_count": null,
      "outputs": []
    },
    {
      "cell_type": "code",
      "metadata": {
        "id": "nyrMCkgCqw77"
      },
      "source": [
        "# add project folder path to sys.path\n",
        "import sys\n",
        "\n",
        "project_dir = '/content/The-Sparks-Foundation-Internship/Face Mask Detection YOLOv5/'\n",
        "sys.path.insert(0, project_dir)\n",
        "\n",
        "print(sys.path)"
      ],
      "execution_count": null,
      "outputs": []
    },
    {
      "cell_type": "markdown",
      "metadata": {
        "id": "ASCTojYmvnfy"
      },
      "source": [
        "- **class 0: 'no mask' or 'incorrectly worn mask'**\n",
        "- **class 1: 'mask worn correctly'**"
      ]
    },
    {
      "cell_type": "code",
      "metadata": {
        "id": "2c24OEYNKkll"
      },
      "source": [
        "# import utils.py from this repo - https://github.com/Aye-Nyein-Thaw/The-Sparks-Foundation-Internship.git\n",
        "import utils\n",
        "\n",
        "# Text for each class\n",
        "text_map = {0 : 'no mask', \n",
        "            1 : 'with mask'}\n",
        "\n",
        "# RGB color values for each class\n",
        "color_map = {0 : (255,0,0),  # red for class 0\n",
        "             1 : (0,0,255)}  # blue for class 1\n",
        "\n",
        "utils.plot_sample_images(dataset_dir,\n",
        "                   split = 'valid', # train (or) valid\n",
        "                   color_map = color_map, \n",
        "                   text_map = text_map,\n",
        "                   rows = 2,\n",
        "                   columns = 3)"
      ],
      "execution_count": null,
      "outputs": []
    },
    {
      "cell_type": "markdown",
      "metadata": {
        "id": "CZRE_ouvI-Su"
      },
      "source": [
        "## **Step 3: Create data.yaml file**"
      ]
    },
    {
      "cell_type": "code",
      "metadata": {
        "id": "pztNSuhyy9S5"
      },
      "source": [
        "import yaml\n",
        "\n",
        "data_yaml = dict(\n",
        "    train = f'{dataset_dir}/train/',\n",
        "    val = f'{dataset_dir}/valid/',\n",
        "    nc = 2,\n",
        "    names = ['no mask', 'with mask']\n",
        ")\n",
        "\n",
        "yaml_dir = '/content/data.yaml'\n",
        "\n",
        "# write data.yaml file to 'content/' directory\n",
        "with open(yaml_dir, 'w') as outfile:\n",
        "    yaml.dump(data_yaml, outfile, default_flow_style=True)\n",
        "    \n",
        "%cat /content/data.yaml"
      ],
      "execution_count": null,
      "outputs": []
    },
    {
      "cell_type": "markdown",
      "metadata": {
        "id": "hOa7kRbqMmI0"
      },
      "source": [
        "## **Step 4: Train YOLOv5 model**"
      ]
    },
    {
      "cell_type": "code",
      "metadata": {
        "id": "NE3Ym-7EFETl"
      },
      "source": [
        "IMG_SIZE = 640\n",
        "BATCH_SIZE = 32\n",
        "EPOCHS = 50\n",
        "project_folder = '/content/face-mask-detection'"
      ],
      "execution_count": 7,
      "outputs": []
    },
    {
      "cell_type": "code",
      "metadata": {
        "id": "VDpoDb6DFAj9"
      },
      "source": [
        "!python /content/yolov5/train.py --img {IMG_SIZE} \\\n",
        "                 --batch {BATCH_SIZE} \\\n",
        "                 --epochs {EPOCHS} \\\n",
        "                 --data {yaml_dir} \\\n",
        "                 --weights yolov5s.pt \\\n",
        "                 --save_period 1 \\\n",
        "                 --project {project_folder}"
      ],
      "execution_count": null,
      "outputs": []
    },
    {
      "cell_type": "code",
      "metadata": {
        "id": "EOu09n_HwI0L"
      },
      "source": [
        "log_dir = f'{project_folder}/exp'\n",
        "\n",
        "%load_ext tensorboard\n",
        "%tensorboard --logdir {log_dir}"
      ],
      "execution_count": null,
      "outputs": []
    },
    {
      "cell_type": "markdown",
      "metadata": {
        "id": "BIqqc5GiNYOM"
      },
      "source": [
        "## **Step 5: Save weights and training output folder in a zip file**\n",
        "- save training output folder as zip file and download"
      ]
    },
    {
      "cell_type": "code",
      "metadata": {
        "id": "rVNQbhxqM1tl"
      },
      "source": [
        "#training_output_folder = f'/content/{project_name}/'\n",
        "zip_file = '/content/training_outputs.zip'\n",
        "\n",
        "# save training output files in a zip file\n",
        "!zip -r {zip_file} {project_folder}"
      ],
      "execution_count": null,
      "outputs": []
    }
  ]
}