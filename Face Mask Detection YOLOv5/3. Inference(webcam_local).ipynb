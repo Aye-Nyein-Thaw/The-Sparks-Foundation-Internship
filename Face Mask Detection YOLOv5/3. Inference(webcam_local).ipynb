{
  "nbformat": 4,
  "nbformat_minor": 0,
  "metadata": {
    "colab": {
      "name": "Inference.ipynb",
      "provenance": [],
      "collapsed_sections": []
    },
    "kernelspec": {
      "display_name": "Python 3",
      "language": "python",
      "name": "python3"
    },
    "language_info": {
      "codemirror_mode": {
        "name": "ipython",
        "version": 3
      },
      "file_extension": ".py",
      "mimetype": "text/x-python",
      "name": "python",
      "nbconvert_exporter": "python",
      "pygments_lexer": "ipython3",
      "version": "3.8.5"
    }
  },
  "cells": [
    {
      "cell_type": "markdown",
      "metadata": {
        "id": "IaG-lUTBIb6_"
      },
      "source": [
        "# Inference(local)"
      ]
    },
    {
      "cell_type": "markdown",
      "metadata": {
        "id": "_frGenFeWCto"
      },
      "source": [
        "## **Clone YOLOv5 repo**"
      ]
    },
    {
      "cell_type": "code",
      "metadata": {
        "id": "yJkuvjMAWCdw",
        "outputId": "1cd97139-851f-43b5-bc99-34b119b700c4"
      },
      "source": [
        "!git clone https://github.com/ultralytics/yolov5"
      ],
      "execution_count": null,
      "outputs": [
        {
          "name": "stderr",
          "output_type": "stream",
          "text": [
            "Cloning into 'yolov5'...\n"
          ]
        }
      ]
    },
    {
      "cell_type": "code",
      "metadata": {
        "id": "gce3913dIb7H"
      },
      "source": [
        "import os\n",
        "\n",
        "# all of our model output files will be saved in this folder\n",
        "INFERENCE_FOLDER = 'inference_outputs'\n",
        "\n",
        "# trained weight dir\n",
        "WEIGHTS_DIR = 'weights/best.pt'\n",
        "\n",
        "IOU_THRESH = '0.3'\n",
        "CONF_THRESH = '0.6'"
      ],
      "execution_count": null,
      "outputs": []
    },
    {
      "cell_type": "markdown",
      "metadata": {
        "id": "JByLpzC9STlL"
      },
      "source": [
        "## **1. Inference on Image**"
      ]
    },
    {
      "cell_type": "code",
      "metadata": {
        "id": "cCR15SuqGYia"
      },
      "source": [
        "# create folder for downloading images\n",
        "TEST_IMAGES_FOLDER = 'test_data/image'\n",
        "\n",
        "# all predicted images will be saved in this folder\n",
        "IMAGE_OUTPUT_FOLDER = f'{INFERENCE_FOLDER}/images'\n",
        "os.makedirs(IMAGE_OUTPUT_FOLDER, exist_ok= True)"
      ],
      "execution_count": null,
      "outputs": []
    },
    {
      "cell_type": "code",
      "metadata": {
        "id": "tWH7gYynR9Pv"
      },
      "source": [
        "# inference\n",
        "!python yolov5/detect.py --weights {WEIGHTS_DIR} \\\n",
        "--source {TEST_IMAGES_FOLDER} \\\n",
        "--iou-thres {IOU_THRESH} \\\n",
        "--conf-thres {CONF_THRESH} \\\n",
        "--project {IMAGE_OUTPUT_FOLDER}"
      ],
      "execution_count": null,
      "outputs": []
    },
    {
      "cell_type": "markdown",
      "metadata": {
        "id": "7jIRPDHHSWRd"
      },
      "source": [
        "## **2. Inference on Youtube Video**"
      ]
    },
    {
      "cell_type": "code",
      "metadata": {
        "id": "QmPNfVFHR9vE"
      },
      "source": [
        "# youtube video link\n",
        "YOUTUBE_VIDEO_LINK = 'https://www.youtube.com/watch?v=dSvff0QljHQ'\n",
        "\n",
        "# predicted video will be saved in this folder\n",
        "YOUTUBE_OUTPUT_FOLDER = f'{INFERENCE_FOLDER}/youtube_video'\n",
        "os.makedirs(YOUTUBE_OUTPUT_FOLDER, exist_ok= True)"
      ],
      "execution_count": null,
      "outputs": []
    },
    {
      "cell_type": "code",
      "metadata": {
        "id": "4uwqT02GR92w"
      },
      "source": [
        "# inference\n",
        "!python yolov5/detect.py --weights {WEIGHTS_DIR} \\\n",
        "--source {YOUTUBE_VIDEO_LINK} \\\n",
        "--iou-thres {IOU_THRESH} \\\n",
        "--conf-thres {CONF_THRESH} \\\n",
        "--project {YOUTUBE_OUTPUT_FOLDER}"
      ],
      "execution_count": null,
      "outputs": []
    },
    {
      "cell_type": "markdown",
      "metadata": {
        "id": "oKMj90f-SYRJ"
      },
      "source": [
        "## **3. Inference on a video file**"
      ]
    },
    {
      "cell_type": "code",
      "metadata": {
        "id": "-tMYNAmEDWWU"
      },
      "source": [
        "TEST_VIDEO_DIR = 'test_data/video/test_video.mp4'\n",
        "\n",
        "# predicted video will be saved in this folder\n",
        "VIDEO_OUTPUT_FOLDER = f'{INFERENCE_FOLDER}/video'\n",
        "os.makedirs(VIDEO_OUTPUT_FOLDER, exist_ok= True)"
      ],
      "execution_count": null,
      "outputs": []
    },
    {
      "cell_type": "code",
      "metadata": {
        "id": "pT91x-m0R-EH"
      },
      "source": [
        "!python yolov5/detect.py --weights {WEIGHTS_DIR} \\\n",
        "--source {TEST_VIDEO_DIR} \\\n",
        "--iou-thres {IOU_THRESH} \\\n",
        "--conf-thres {CONF_THRESH} \\\n",
        "--project {VIDEO_OUTPUT_FOLDER}"
      ],
      "execution_count": null,
      "outputs": []
    },
    {
      "cell_type": "markdown",
      "metadata": {
        "id": "E855JcARSara"
      },
      "source": [
        "## **4. Inference on Webcam**"
      ]
    },
    {
      "cell_type": "code",
      "metadata": {
        "id": "EcmXSIUJSJPF"
      },
      "source": [
        "# webcam video will be saved in this folder\n",
        "WEBCAM_OUTPUT_FOLDER = f'{INFERENCE_FOLDER}/webcam_video'\n",
        "os.makedirs(WEBCAM_OUTPUT_FOLDER, exist_ok= True)\n",
        "\n",
        "!python yolov5/detect.py --weights {WEIGHTS_DIR} \\\n",
        "--source 1 \\\n",
        "--iou-thres {IOU_THRESH} \\\n",
        "--conf-thres {CONF_THRESH} \\\n",
        "--project {WEBCAM_OUTPUT_FOLDER}"
      ],
      "execution_count": null,
      "outputs": []
    }
  ]
}
