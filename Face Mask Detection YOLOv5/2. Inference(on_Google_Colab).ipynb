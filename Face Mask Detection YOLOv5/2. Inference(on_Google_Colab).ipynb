{
  "nbformat": 4,
  "nbformat_minor": 0,
  "metadata": {
    "colab": {
      "name": "Inference (on Google Colab).ipynb",
      "provenance": [],
      "collapsed_sections": [],
      "include_colab_link": true
    },
    "kernelspec": {
      "display_name": "Python 3",
      "language": "python",
      "name": "python3"
    },
    "language_info": {
      "codemirror_mode": {
        "name": "ipython",
        "version": 3
      },
      "file_extension": ".py",
      "mimetype": "text/x-python",
      "name": "python",
      "nbconvert_exporter": "python",
      "pygments_lexer": "ipython3",
      "version": "3.8.5"
    }
  },
  "cells": [
    {
      "cell_type": "markdown",
      "metadata": {
        "id": "view-in-github",
        "colab_type": "text"
      },
      "source": [
        "<a href=\"https://colab.research.google.com/github/Aye-Nyein-Thaw/The-Sparks-Foundation-Internship/blob/main/Face%20Mask%20Detection%20YOLOv5/2.%20Inference(on_Google_Colab).ipynb\" target=\"_parent\"><img src=\"https://colab.research.google.com/assets/colab-badge.svg\" alt=\"Open In Colab\"/></a>"
      ]
    },
    {
      "cell_type": "markdown",
      "metadata": {
        "id": "Q5Uf7nz1V0eB"
      },
      "source": [
        "# **Inference(Google Colab)**"
      ]
    },
    {
      "cell_type": "markdown",
      "metadata": {
        "id": "_frGenFeWCto"
      },
      "source": [
        "## **Clone YOLOv5 repo**"
      ]
    },
    {
      "cell_type": "code",
      "metadata": {
        "id": "yJkuvjMAWCdw"
      },
      "source": [
        "!git clone https://github.com/ultralytics/yolov5\n",
        "\n",
        "# install dependencies\n",
        "!pip install -U -r yolov5/requirements.txt"
      ],
      "execution_count": null,
      "outputs": []
    },
    {
      "cell_type": "markdown",
      "metadata": {
        "id": "3_Bshkw7VzDK"
      },
      "source": [
        "## **Download weights**"
      ]
    },
    {
      "cell_type": "code",
      "metadata": {
        "id": "PR77cQNIXd0X"
      },
      "source": [
        "# url link for trained weights\n",
        "WEIGHTS_URL = 'https://www.dropbox.com/s/y8qwnl3h68yu928/best.pt?dl=0'"
      ],
      "execution_count": 1,
      "outputs": []
    },
    {
      "cell_type": "code",
      "metadata": {
        "id": "_g927U5OSG34"
      },
      "source": [
        "import os\n",
        "\n",
        "WEIGHTS_FOLDER = '/content/weights'\n",
        "os.makedirs(WEIGHTS_FOLDER, exist_ok = True)\n",
        "\n",
        "WEIGHTS_DIR = f'{WEIGHTS_FOLDER}/best.pt'\n",
        "\n",
        "# download trained weights\n",
        "!wget -O {WEIGHTS_DIR} {WEIGHTS_URL}"
      ],
      "execution_count": null,
      "outputs": []
    },
    {
      "cell_type": "code",
      "metadata": {
        "id": "eLTP_JseMTxK"
      },
      "source": [
        "# all of our model output files will be saved in this folder\n",
        "INFERENCE_FOLDER = '/content/inference_outputs'\n",
        "\n",
        "IOU_THRESH = '0.3'\n",
        "CONF_THRESH = '0.5'"
      ],
      "execution_count": null,
      "outputs": []
    },
    {
      "cell_type": "markdown",
      "metadata": {
        "id": "JByLpzC9STlL"
      },
      "source": [
        "## **1. Inference on Image**\n",
        "\n",
        "adjust the following parameters:\n",
        "-  weights: weights directory of the trained model\n",
        "- source: input file/folder to run inference on, 0 for webcam\n",
        "- project: directory to save inference results\n",
        "- iou-thres: IOU threshold for NMS, defaults to 0.45\n",
        "- conf-thres: object confidence threshold"
      ]
    },
    {
      "cell_type": "code",
      "metadata": {
        "id": "cCR15SuqGYia"
      },
      "source": [
        "# create folder for downloading images\n",
        "TEST_IMAGES_FOLDER = '/content/test_images'\n",
        "os.makedirs(TEST_IMAGES_FOLDER, exist_ok = True)\n",
        "\n",
        "# all predicted images will be saved in this folder\n",
        "IMAGE_OUTPUT_FOLDER = f'{INFERENCE_FOLDER}/images'\n",
        "os.makedirs(IMAGE_OUTPUT_FOLDER, exist_ok= True)"
      ],
      "execution_count": null,
      "outputs": []
    },
    {
      "cell_type": "markdown",
      "metadata": {
        "id": "vyxwvWgMGZ5C"
      },
      "source": [
        "### Download images"
      ]
    },
    {
      "cell_type": "code",
      "metadata": {
        "id": "qOm77P_qR8XJ"
      },
      "source": [
        "# download images in 'test_images' folder for inferencing\n",
        "!wget -O /content/test_images/test_image_1.png https://news.harvard.edu/wp-content/uploads/2021/06/Edited-1200x800.jpg\n",
        "!wget -O /content/test_images/test_image_2.png https://www.intelligenttransport.com/wp-content/uploads/COVID-mask-bus-rider.jpg\n",
        "!wget -O /content/test_images/test_image_3.png https://www.northshore.org/globalassets/healthy-you/blog/2020/unmasking-coronavirus.jpg"
      ],
      "execution_count": null,
      "outputs": []
    },
    {
      "cell_type": "code",
      "metadata": {
        "id": "tWH7gYynR9Pv"
      },
      "source": [
        "# inference\n",
        "!python /content/yolov5/detect.py --weights {WEIGHTS_DIR} \\\n",
        "--source {TEST_IMAGES_FOLDER} \\\n",
        "--iou-thres {IOU_THRESH} \\\n",
        "--conf-thres {CONF_THRESH} \\\n",
        "--project {IMAGE_OUTPUT_FOLDER}"
      ],
      "execution_count": null,
      "outputs": []
    },
    {
      "cell_type": "markdown",
      "metadata": {
        "id": "7jIRPDHHSWRd"
      },
      "source": [
        "## **2. Inference on Youtube video**"
      ]
    },
    {
      "cell_type": "code",
      "metadata": {
        "id": "QmPNfVFHR9vE"
      },
      "source": [
        "# youtube video link\n",
        "YOUTUBE_VIDEO_LINK = 'https://www.youtube.com/watch?v=dSvff0QljHQ'\n",
        "\n",
        "# predicted video will be saved in this folder\n",
        "YOUTUBE_OUTPUT_FOLDER = f'{INFERENCE_FOLDER}/youtube_video'\n",
        "os.makedirs(YOUTUBE_OUTPUT_FOLDER, exist_ok= True)"
      ],
      "execution_count": null,
      "outputs": []
    },
    {
      "cell_type": "code",
      "metadata": {
        "id": "4uwqT02GR92w"
      },
      "source": [
        "# inference\n",
        "!python /content/yolov5/detect.py --weights {WEIGHTS_DIR} \\\n",
        "--source {YOUTUBE_VIDEO_LINK} \\\n",
        "--iou-thres {IOU_THRESH} \\\n",
        "--conf-thres {CONF_THRESH} \\\n",
        "--project {YOUTUBE_OUTPUT_FOLDER}"
      ],
      "execution_count": null,
      "outputs": []
    },
    {
      "cell_type": "markdown",
      "metadata": {
        "id": "oKMj90f-SYRJ"
      },
      "source": [
        "## **3. Inference on our own video**"
      ]
    },
    {
      "cell_type": "markdown",
      "metadata": {
        "id": "OAWtGFebDmJa"
      },
      "source": [
        "### Download Video"
      ]
    },
    {
      "cell_type": "code",
      "metadata": {
        "id": "4gNi3cnrcjio"
      },
      "source": [
        "# video file download url\n",
        "VIDEO_URL = 'https://www.dropbox.com/s/pa19shuyb5zuqqw/test_video.zip?dl=0'\n",
        "\n",
        "# create folder to store our test video\n",
        "VIDEO_FOLDER = '/content/our_video'\n",
        "os.makedirs(VIDEO_FOLDER, exist_ok = True)\n",
        "\n",
        "# download video file\n",
        "VIDEO_ZIP_FILE = '/content/test_video.zip'\n",
        "!wget -O {VIDEO_ZIP_FILE} {VIDEO_URL}\n",
        "\n",
        "# unzip video file to folder\n",
        "!unzip -u {VIDEO_ZIP_FILE} -d {VIDEO_FOLDER}\n",
        "\n",
        "# remove video zip file\n",
        "!rm {VIDEO_ZIP_FILE}"
      ],
      "execution_count": null,
      "outputs": []
    },
    {
      "cell_type": "code",
      "metadata": {
        "id": "-tMYNAmEDWWU"
      },
      "source": [
        "VIDEO_DIR = f'{VIDEO_FOLDER}/test_video.mp4'\n",
        "\n",
        "# predicted video will be saved in this folder\n",
        "VIDEO_OUTPUT_FOLDER = f'{INFERENCE_FOLDER}/video'\n",
        "os.makedirs(VIDEO_OUTPUT_FOLDER, exist_ok= True)"
      ],
      "execution_count": null,
      "outputs": []
    },
    {
      "cell_type": "code",
      "metadata": {
        "id": "pT91x-m0R-EH"
      },
      "source": [
        "!python /content/yolov5/detect.py --weights {WEIGHTS_DIR} \\\n",
        "--source {VIDEO_DIR} \\\n",
        "--iou-thres {IOU_THRESH} \\\n",
        "--conf-thres {CONF_THRESH} \\\n",
        "--project {VIDEO_OUTPUT_FOLDER}"
      ],
      "execution_count": null,
      "outputs": []
    }
  ]
}